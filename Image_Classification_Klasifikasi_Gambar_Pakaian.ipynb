{
  "nbformat": 4,
  "nbformat_minor": 0,
  "metadata": {
    "colab": {
      "name": "Image Classification - Klasifikasi Gambar Pakaian.ipynb",
      "provenance": [],
      "authorship_tag": "ABX9TyNKObcrMLouxpOD1OOGrRrD",
      "include_colab_link": true
    },
    "kernelspec": {
      "name": "python3",
      "display_name": "Python 3"
    }
  },
  "cells": [
    {
      "cell_type": "markdown",
      "metadata": {
        "id": "view-in-github",
        "colab_type": "text"
      },
      "source": [
        "<a href=\"https://colab.research.google.com/github/sam-marhaendra/Image-Classification_Klasifikasi-Gambar-Pakaian/blob/main/Image_Classification_Klasifikasi_Gambar_Pakaian.ipynb\" target=\"_parent\"><img src=\"https://colab.research.google.com/assets/colab-badge.svg\" alt=\"Open In Colab\"/></a>"
      ]
    },
    {
      "cell_type": "code",
      "metadata": {
        "id": "UJZ_f8z9ftaU"
      },
      "source": [
        "try:\n",
        "  # %tensorflow_version only exists in Colab.\n",
        "  %tensorflow_version 2.x\n",
        "except Exception:\n",
        "  pass"
      ],
      "execution_count": null,
      "outputs": []
    },
    {
      "cell_type": "code",
      "metadata": {
        "id": "GAK-9vdTjBXe",
        "outputId": "582808ec-bfd2-4c1c-8508-4879d1b11238",
        "colab": {
          "base_uri": "https://localhost:8080/",
          "height": 34
        }
      },
      "source": [
        "from __future__ import absolute_import, division, print_function, unicode_literals\n",
        "\n",
        "# TensorFlow and tf.keras\n",
        "import tensorflow as tf\n",
        "from tensorflow import keras\n",
        "\n",
        "# Helper libraries\n",
        "import numpy as np\n",
        "import matplotlib.pyplot as plt\n",
        "\n",
        "print(tf.__version__)"
      ],
      "execution_count": null,
      "outputs": [
        {
          "output_type": "stream",
          "text": [
            "2.3.0\n"
          ],
          "name": "stdout"
        }
      ]
    },
    {
      "cell_type": "markdown",
      "metadata": {
        "id": "pACyx93puhdU"
      },
      "source": [
        "# ***IMPORT DATASET FASHION MIST***"
      ]
    },
    {
      "cell_type": "code",
      "metadata": {
        "id": "8yjQd1l0jIel",
        "outputId": "3e95b130-f260-4be8-cd2d-67a7db1fcc41",
        "colab": {
          "base_uri": "https://localhost:8080/",
          "height": 173
        }
      },
      "source": [
        "fashion_mnist = keras.datasets.fashion_mnist\n",
        "\n",
        "(train_images, train_labels), (test_images, test_labels) = fashion_mnist.load_data()"
      ],
      "execution_count": null,
      "outputs": [
        {
          "output_type": "stream",
          "text": [
            "Downloading data from https://storage.googleapis.com/tensorflow/tf-keras-datasets/train-labels-idx1-ubyte.gz\n",
            "32768/29515 [=================================] - 0s 0us/step\n",
            "Downloading data from https://storage.googleapis.com/tensorflow/tf-keras-datasets/train-images-idx3-ubyte.gz\n",
            "26427392/26421880 [==============================] - 0s 0us/step\n",
            "Downloading data from https://storage.googleapis.com/tensorflow/tf-keras-datasets/t10k-labels-idx1-ubyte.gz\n",
            "8192/5148 [===============================================] - 0s 0us/step\n",
            "Downloading data from https://storage.googleapis.com/tensorflow/tf-keras-datasets/t10k-images-idx3-ubyte.gz\n",
            "4423680/4422102 [==============================] - 0s 0us/step\n"
          ],
          "name": "stdout"
        }
      ]
    },
    {
      "cell_type": "code",
      "metadata": {
        "id": "SVicRuPhjY1p"
      },
      "source": [
        "class_names = ['T-shirt/top', 'Trouser', 'Pullover', 'Dress', 'Coat',\n",
        "               'Sandal', 'Shirt', 'Sneaker', 'Bag', 'Ankle boot']"
      ],
      "execution_count": null,
      "outputs": []
    },
    {
      "cell_type": "markdown",
      "metadata": {
        "id": "e0yd9z-8kTgd"
      },
      "source": [
        "Dilakukan penyimpanan nama kelas dikarenakan nama kelas tidak tersedia dalam dataset"
      ]
    },
    {
      "cell_type": "markdown",
      "metadata": {
        "id": "HvdeMf13uo0X"
      },
      "source": [
        "# ***EKSPLORASI DATA***"
      ]
    },
    {
      "cell_type": "code",
      "metadata": {
        "id": "GG71epw1jhGp",
        "outputId": "f15ff1cb-405d-491c-cc0f-218388a5fb2f",
        "colab": {
          "base_uri": "https://localhost:8080/",
          "height": 34
        }
      },
      "source": [
        "train_images.shape"
      ],
      "execution_count": null,
      "outputs": [
        {
          "output_type": "execute_result",
          "data": {
            "text/plain": [
              "(60000, 28, 28)"
            ]
          },
          "metadata": {
            "tags": []
          },
          "execution_count": 6
        }
      ]
    },
    {
      "cell_type": "code",
      "metadata": {
        "id": "ynJJ_ODUjnRG",
        "outputId": "b6155ca5-c96a-4f33-a621-70baa3cafad0",
        "colab": {
          "base_uri": "https://localhost:8080/",
          "height": 34
        }
      },
      "source": [
        "len(train_labels)"
      ],
      "execution_count": null,
      "outputs": [
        {
          "output_type": "execute_result",
          "data": {
            "text/plain": [
              "60000"
            ]
          },
          "metadata": {
            "tags": []
          },
          "execution_count": 8
        }
      ]
    },
    {
      "cell_type": "code",
      "metadata": {
        "id": "8-Vvl7lCjsqN",
        "outputId": "5a65a3e5-5723-4fa8-aa38-579de02afd3d",
        "colab": {
          "base_uri": "https://localhost:8080/",
          "height": 34
        }
      },
      "source": [
        "train_labels"
      ],
      "execution_count": null,
      "outputs": [
        {
          "output_type": "execute_result",
          "data": {
            "text/plain": [
              "array([9, 0, 0, ..., 3, 0, 5], dtype=uint8)"
            ]
          },
          "metadata": {
            "tags": []
          },
          "execution_count": 9
        }
      ]
    },
    {
      "cell_type": "code",
      "metadata": {
        "id": "VjyH8RZIjxM-",
        "outputId": "80e3bdfa-6ee6-4689-a3fc-bd541033d7b4",
        "colab": {
          "base_uri": "https://localhost:8080/",
          "height": 34
        }
      },
      "source": [
        "test_images.shape"
      ],
      "execution_count": null,
      "outputs": [
        {
          "output_type": "execute_result",
          "data": {
            "text/plain": [
              "(10000, 28, 28)"
            ]
          },
          "metadata": {
            "tags": []
          },
          "execution_count": 10
        }
      ]
    },
    {
      "cell_type": "code",
      "metadata": {
        "id": "zEM5Nmr4jz3K",
        "outputId": "fbf7eb64-575f-4dcf-dff9-dcd9ad461df7",
        "colab": {
          "base_uri": "https://localhost:8080/",
          "height": 34
        }
      },
      "source": [
        "len(test_labels)"
      ],
      "execution_count": null,
      "outputs": [
        {
          "output_type": "execute_result",
          "data": {
            "text/plain": [
              "10000"
            ]
          },
          "metadata": {
            "tags": []
          },
          "execution_count": 11
        }
      ]
    },
    {
      "cell_type": "markdown",
      "metadata": {
        "id": "57IH_2JHj3WI"
      },
      "source": [
        "Dari eksplorasi data di atas, didapatkan informasi bahwa selain terdapat 60000 gambar, terdapat juga 60000 label di dalam training set, dengan setiap labelnya yaitu merupakan bilangan integer antara 0 dan 9. Selain itu, Terdapat juga 10000 gambar di dalam test set yang direpresentasikan sebagai 28 x 28 pixel"
      ]
    },
    {
      "cell_type": "markdown",
      "metadata": {
        "id": "QLuzZDiauxcJ"
      },
      "source": [
        "# ***DATA PREPROCESSING***"
      ]
    },
    {
      "cell_type": "code",
      "metadata": {
        "id": "vHmUzWBikud3",
        "outputId": "8c77c8d6-d435-4c48-de83-a1bac83c95a2",
        "colab": {
          "base_uri": "https://localhost:8080/",
          "height": 282
        }
      },
      "source": [
        "plt.figure()\n",
        "plt.imshow(train_images[0])\n",
        "plt.colorbar()\n",
        "plt.grid(False)\n",
        "plt.show"
      ],
      "execution_count": null,
      "outputs": [
        {
          "output_type": "execute_result",
          "data": {
            "text/plain": [
              "<function matplotlib.pyplot.show>"
            ]
          },
          "metadata": {
            "tags": []
          },
          "execution_count": 12
        },
        {
          "output_type": "display_data",
          "data": {
            "image/png": "[encoded data removed]",
            "text/plain": [
              "<Figure size 432x288 with 2 Axes>"
            ]
          },
          "metadata": {
            "tags": [],
            "needs_background": "light"
          }
        }
      ]
    },
    {
      "cell_type": "markdown",
      "metadata": {
        "id": "r-tUe_Vsk8Zr"
      },
      "source": [
        "Mengubah nilai pixel (awalnya berada di rentang antara 0 sampai dengan 255) menjadi rentang 0 sampai dengan 1"
      ]
    },
    {
      "cell_type": "code",
      "metadata": {
        "id": "IXJ8Fn9ilEbD"
      },
      "source": [
        "train_images = train_images / 255.0\n",
        "test_images = test_images / 255.0"
      ],
      "execution_count": null,
      "outputs": []
    },
    {
      "cell_type": "markdown",
      "metadata": {
        "id": "iRWZ8ldblNT4"
      },
      "source": [
        "Menampilkan 10 gambar pertama dari training set dan menampilkan nama kelas di bawah setiap gambar guna memastikan bahwa data sudah dalam format yang benar"
      ]
    },
    {
      "cell_type": "code",
      "metadata": {
        "id": "NRIZiK7AlWoF",
        "outputId": "9245547e-308e-4387-b4a8-ff4f877d517e",
        "colab": {
          "base_uri": "https://localhost:8080/",
          "height": 251
        }
      },
      "source": [
        "plt.figure(figsize=(10,10))\n",
        "for i in range(10):\n",
        "  plt.subplot(5,5,i+1)\n",
        "  plt.xticks([])\n",
        "  plt.yticks([])\n",
        "  plt.grid(False)\n",
        "  plt.imshow(train_images[i], cmap=plt.cm.binary)\n",
        "  plt.xlabel(class_names[train_labels[i]])\n",
        "plt.show()"
      ],
      "execution_count": null,
      "outputs": [
        {
          "output_type": "display_data",
          "data": {
            "image/png": "[encoded data removed]",
            "text/plain": [
              "<Figure size 720x720 with 10 Axes>"
            ]
          },
          "metadata": {
            "tags": []
          }
        }
      ]
    },
    {
      "cell_type": "markdown",
      "metadata": {
        "id": "Nx9YJOwxu1lt"
      },
      "source": [
        "# ***MEMBANGUN MODEL***"
      ]
    },
    {
      "cell_type": "markdown",
      "metadata": {
        "id": "3AsIUfrqndTt"
      },
      "source": [
        "**Konfigurasi Layer**"
      ]
    },
    {
      "cell_type": "markdown",
      "metadata": {
        "id": "BQ7NyZrll7O7"
      },
      "source": [
        "Layer pertama melakukan transformasi dari format gambar yang mulanya array 2 dimensi (28 x 28 pixel) menjadi array 1 dimensi (28 * 28 = 784 pixel)\n",
        "\n",
        "Layer kedua (128 node) dan ketiga (10 node *softmax* merupakan model yang akan dibuat. Layer terakhir ini mengembalikan array dari 10 nilai probabilitas yang apabila dijumlahkan hasilnya adalah 1."
      ]
    },
    {
      "cell_type": "code",
      "metadata": {
        "id": "8aSXxlvGl5PP"
      },
      "source": [
        "model = keras.Sequential([\n",
        "                          keras.layers.Flatten(input_shape=(28, 28)),\n",
        "                          keras.layers.Dense(128, activation='relu'),\n",
        "                          keras.layers.Dense(10, activation='softmax')\n",
        "])"
      ],
      "execution_count": null,
      "outputs": []
    },
    {
      "cell_type": "markdown",
      "metadata": {
        "id": "FnvnsRCpnXFt"
      },
      "source": [
        "**Proses Kompilasi Model**"
      ]
    },
    {
      "cell_type": "code",
      "metadata": {
        "id": "mqmJgplemKQ9"
      },
      "source": [
        "model.compile(optimizer='adam',\n",
        "              loss='sparse_categorical_crossentropy',\n",
        "              metrics=['accuracy'])"
      ],
      "execution_count": null,
      "outputs": []
    },
    {
      "cell_type": "markdown",
      "metadata": {
        "id": "d7VyO7Y1vDXN"
      },
      "source": [
        "# ***PROSES TRAINING MODEL***"
      ]
    },
    {
      "cell_type": "code",
      "metadata": {
        "id": "1riaTTRUnpzG",
        "outputId": "9f8cddd6-d234-45da-deeb-4024965f8d62",
        "colab": {
          "base_uri": "https://localhost:8080/",
          "height": 394
        }
      },
      "source": [
        "model.fit(train_images, train_labels, epochs=10)"
      ],
      "execution_count": null,
      "outputs": [
        {
          "output_type": "stream",
          "text": [
            "Epoch 1/10\n",
            "1875/1875 [==============================] - 4s 2ms/step - loss: 0.5031 - accuracy: 0.8232\n",
            "Epoch 2/10\n",
            "1875/1875 [==============================] - 4s 2ms/step - loss: 0.3798 - accuracy: 0.8628\n",
            "Epoch 3/10\n",
            "1875/1875 [==============================] - 5s 2ms/step - loss: 0.3395 - accuracy: 0.8768\n",
            "Epoch 4/10\n",
            "1875/1875 [==============================] - 4s 2ms/step - loss: 0.3153 - accuracy: 0.8841\n",
            "Epoch 5/10\n",
            "1875/1875 [==============================] - 4s 2ms/step - loss: 0.2978 - accuracy: 0.8907\n",
            "Epoch 6/10\n",
            "1875/1875 [==============================] - 4s 2ms/step - loss: 0.2801 - accuracy: 0.8966\n",
            "Epoch 7/10\n",
            "1875/1875 [==============================] - 3s 2ms/step - loss: 0.2698 - accuracy: 0.8997\n",
            "Epoch 8/10\n",
            "1875/1875 [==============================] - 3s 2ms/step - loss: 0.2593 - accuracy: 0.9036\n",
            "Epoch 9/10\n",
            "1875/1875 [==============================] - 3s 2ms/step - loss: 0.2517 - accuracy: 0.9058\n",
            "Epoch 10/10\n",
            "1875/1875 [==============================] - 3s 2ms/step - loss: 0.2405 - accuracy: 0.9098\n"
          ],
          "name": "stdout"
        },
        {
          "output_type": "execute_result",
          "data": {
            "text/plain": [
              "<tensorflow.python.keras.callbacks.History at 0x7fc544b7cf28>"
            ]
          },
          "metadata": {
            "tags": []
          },
          "execution_count": 19
        }
      ]
    },
    {
      "cell_type": "markdown",
      "metadata": {
        "id": "rkqmppDVob8p"
      },
      "source": [
        "Model ini mencapai akurasi sekitar 88% terhadap data training"
      ]
    },
    {
      "cell_type": "markdown",
      "metadata": {
        "id": "sYgW7YsXvHF1"
      },
      "source": [
        "# ***EVALUASI NILAI DARI AKURASI***"
      ]
    },
    {
      "cell_type": "code",
      "metadata": {
        "id": "gHYTQehJoiKr",
        "outputId": "188a2d05-e488-4f79-a864-251ec3a90daf",
        "colab": {
          "base_uri": "https://localhost:8080/",
          "height": 68
        }
      },
      "source": [
        "test_loss, test_acc = model.evaluate(test_images, test_labels, verbose=2)\n",
        "print('\\nTest Accuracy:', test_acc)"
      ],
      "execution_count": null,
      "outputs": [
        {
          "output_type": "stream",
          "text": [
            "313/313 - 0s - loss: 0.3281 - accuracy: 0.8827\n",
            "\n",
            "Test Accuracy: 0.8827000260353088\n"
          ],
          "name": "stdout"
        }
      ]
    },
    {
      "cell_type": "markdown",
      "metadata": {
        "id": "J806_MFLo9Fd"
      },
      "source": [
        "Model yang dibuat menghasilkan tingkat akurasi yang sedikit lebih kecil pada data test dibandingkan pada data training"
      ]
    },
    {
      "cell_type": "markdown",
      "metadata": {
        "id": "J0IcTlPtvLBh"
      },
      "source": [
        "# ***MEMBUAT PREDIKSI***"
      ]
    },
    {
      "cell_type": "code",
      "metadata": {
        "id": "PjoS7BiQo4aj"
      },
      "source": [
        "prediksi = model.predict(test_images)"
      ],
      "execution_count": null,
      "outputs": []
    },
    {
      "cell_type": "code",
      "metadata": {
        "id": "w4knbWNNpQiV",
        "outputId": "362246f1-d0f9-4812-d400-66879fc9c3cf",
        "colab": {
          "base_uri": "https://localhost:8080/",
          "height": 68
        }
      },
      "source": [
        "prediksi[0]"
      ],
      "execution_count": null,
      "outputs": [
        {
          "output_type": "execute_result",
          "data": {
            "text/plain": [
              "array([3.2401322e-06, 6.1912908e-10, 5.6827025e-07, 2.3578959e-06,\n",
              "       2.1006008e-08, 3.9543328e-04, 3.0323125e-07, 1.2816793e-02,\n",
              "       8.4526874e-07, 9.8678046e-01], dtype=float32)"
            ]
          },
          "metadata": {
            "tags": []
          },
          "execution_count": 22
        }
      ]
    },
    {
      "cell_type": "code",
      "metadata": {
        "id": "uJu1fCa_pTPS",
        "outputId": "d1b0af24-0e85-41e0-824a-eb353e4d11e7",
        "colab": {
          "base_uri": "https://localhost:8080/",
          "height": 34
        }
      },
      "source": [
        "np.argmax(prediksi[0])"
      ],
      "execution_count": null,
      "outputs": [
        {
          "output_type": "execute_result",
          "data": {
            "text/plain": [
              "9"
            ]
          },
          "metadata": {
            "tags": []
          },
          "execution_count": 23
        }
      ]
    },
    {
      "cell_type": "code",
      "metadata": {
        "id": "adjIrtpWpXOq",
        "outputId": "1c2dd8eb-d5f3-4654-d883-0cada2f9dff8",
        "colab": {
          "base_uri": "https://localhost:8080/",
          "height": 34
        }
      },
      "source": [
        "test_labels[0]"
      ],
      "execution_count": null,
      "outputs": [
        {
          "output_type": "execute_result",
          "data": {
            "text/plain": [
              "9"
            ]
          },
          "metadata": {
            "tags": []
          },
          "execution_count": 24
        }
      ]
    },
    {
      "cell_type": "code",
      "metadata": {
        "id": "vLl1effHpZ9D"
      },
      "source": [
        "def plot_image(i, prediksi_array, true_label, img):\n",
        "  prediksi_array, true_label, img = prediksi_array, true_label[i], img[i]\n",
        "  plt.grid(False)\n",
        "  plt.xticks([])\n",
        "  plt.yticks([])\n",
        "\n",
        "  plt.imshow(img, cmap=plt.cm.binary)\n",
        "\n",
        "  predicted_label = np.argmax(prediksi_array)\n",
        "  if predicted_label == true_label:\n",
        "    color = 'blue'\n",
        "  else:\n",
        "    color = 'red'\n",
        "\n",
        "  plt.xlabel(\"{} {:2.0f}% ({})\".format(class_names[predicted_label],\n",
        "             100*np.max(prediksi_array),\n",
        "             class_names[true_label]),\n",
        "             color=color)\n",
        "\n",
        "def plot_value_array(i, prediksi_array, true_label):\n",
        "  prediksi_array, true_label = prediksi_array, true_label[i]\n",
        "  plt.grid(False)\n",
        "  plt.xticks(range(10))\n",
        "  plt.yticks([])\n",
        "  thisplot = plt.bar(range(10), prediksi_array, color=\"#777777\")\n",
        "  plt.ylim([0, 1])\n",
        "  predicted_label = np.argmax(prediksi_array)\n",
        "\n",
        "  thisplot[predicted_label].set_color('red')\n",
        "  thisplot[true_label].set_color('blue')"
      ],
      "execution_count": null,
      "outputs": []
    },
    {
      "cell_type": "code",
      "metadata": {
        "id": "s9UZyOROqnye",
        "outputId": "c10a5305-4c96-4507-9f6b-2b726009ec0e",
        "colab": {
          "base_uri": "https://localhost:8080/",
          "height": 211
        }
      },
      "source": [
        "i = 0\n",
        "plt.figure(figsize=(6,3))\n",
        "plt.subplot(1,2,1)\n",
        "plot_image(i, prediksi[i], test_labels, test_images)\n",
        "plt.subplot(1,2,2)\n",
        "plot_value_array(i, prediksi[i], test_labels)\n",
        "plt.show()"
      ],
      "execution_count": null,
      "outputs": [
        {
          "output_type": "display_data",
          "data": {
            "image/png": "[encoded data removed]",
            "text/plain": [
              "<Figure size 432x216 with 2 Axes>"
            ]
          },
          "metadata": {
            "tags": [],
            "needs_background": "light"
          }
        }
      ]
    },
    {
      "cell_type": "code",
      "metadata": {
        "id": "-c7MeuaKq4RN",
        "outputId": "85e24962-2175-4dd1-95a5-631f95580d9e",
        "colab": {
          "base_uri": "https://localhost:8080/",
          "height": 211
        }
      },
      "source": [
        "i = 12\n",
        "plt.figure(figsize=(6,3))\n",
        "plt.subplot(1,2,1)\n",
        "plot_image(i, prediksi[i], test_labels, test_images)\n",
        "plt.subplot(1,2,2)\n",
        "plot_value_array(i, prediksi[i], test_labels)\n",
        "plt.show()"
      ],
      "execution_count": null,
      "outputs": [
        {
          "output_type": "display_data",
          "data": {
            "image/png": "[encoded data removed]",
            "text/plain": [
              "<Figure size 432x216 with 2 Axes>"
            ]
          },
          "metadata": {
            "tags": [],
            "needs_background": "light"
          }
        }
      ]
    },
    {
      "cell_type": "markdown",
      "metadata": {
        "id": "848FFMPbrg_K"
      },
      "source": [
        "membuat plot beberapa gambar dengan prediksinya (warna prediksi benar yaitu biru dan warna prediksi salah yaitu merah)"
      ]
    },
    {
      "cell_type": "code",
      "metadata": {
        "id": "3aMfcIxUq9x5",
        "outputId": "7c450995-053a-46eb-acb5-41a282d9e751",
        "colab": {
          "base_uri": "https://localhost:8080/",
          "height": 543
        }
      },
      "source": [
        "num_rows = 5\n",
        "num_cols = 3\n",
        "num_images = num_rows*num_cols\n",
        "plt.figure(figsize=(2*2*num_cols, 2*num_rows))\n",
        "for i in range(num_images):\n",
        "  plt.subplot(num_rows, 2*num_cols, 2*i+1)\n",
        "  plot_image(i, prediksi[i], test_labels, test_images)\n",
        "  plt.subplot(num_rows, 2*num_cols, 2*i+2)\n",
        "  plot_value_array(i, prediksi[i], test_labels)\n",
        "plt.tight_layout()\n",
        "plt.show()"
      ],
      "execution_count": null,
      "outputs": [
        {
          "output_type": "display_data",
          "data": {
            "image/png": "[encoded data removed]",
            "text/plain": [
              "<Figure size 864x720 with 30 Axes>"
            ]
          },
          "metadata": {
            "tags": [],
            "needs_background": "light"
          }
        }
      ]
    },
    {
      "cell_type": "markdown",
      "metadata": {
        "id": "EqoOaZsivPTY"
      },
      "source": [
        "# ***MENGGUNAKAN MODEL UNTUK MEMBUAT PREDIKSI TERHADAP SEBUAH GAMBAR***"
      ]
    },
    {
      "cell_type": "code",
      "metadata": {
        "id": "jmVH9CZRrbLB",
        "outputId": "0237c142-8e9c-4dd5-8223-b99cc0e08177",
        "colab": {
          "base_uri": "https://localhost:8080/",
          "height": 34
        }
      },
      "source": [
        "img = test_images[1]\n",
        "\n",
        "print(img.shape)"
      ],
      "execution_count": null,
      "outputs": [
        {
          "output_type": "stream",
          "text": [
            "(28, 28)\n"
          ],
          "name": "stdout"
        }
      ]
    },
    {
      "cell_type": "code",
      "metadata": {
        "id": "xdekBfrhrv0Q",
        "outputId": "8841fa1c-b720-44e2-af17-983cc89d8237",
        "colab": {
          "base_uri": "https://localhost:8080/",
          "height": 34
        }
      },
      "source": [
        "img = (np.expand_dims(img,0))\n",
        "\n",
        "print(img.shape)"
      ],
      "execution_count": null,
      "outputs": [
        {
          "output_type": "stream",
          "text": [
            "(1, 28, 28)\n"
          ],
          "name": "stdout"
        }
      ]
    },
    {
      "cell_type": "code",
      "metadata": {
        "id": "ztnjl87Ur0WH",
        "outputId": "5bce449f-bf77-4200-f52e-33535e2882cb",
        "colab": {
          "base_uri": "https://localhost:8080/",
          "height": 68
        }
      },
      "source": [
        "prediksi_single = model.predict(img)\n",
        "\n",
        "print(prediksi_single)"
      ],
      "execution_count": null,
      "outputs": [
        {
          "output_type": "stream",
          "text": [
            "[[1.08783184e-04 9.20942128e-14 9.98056471e-01 7.25144345e-09\n",
            "  1.05639279e-03 3.44158499e-14 7.78332644e-04 1.00641507e-13\n",
            "  3.72279541e-10 5.69039000e-12]]\n"
          ],
          "name": "stdout"
        }
      ]
    },
    {
      "cell_type": "code",
      "metadata": {
        "id": "kUHk1hq5r6cD",
        "outputId": "757a96fd-4662-4f20-bdd7-84ed887850f7",
        "colab": {
          "base_uri": "https://localhost:8080/",
          "height": 300
        }
      },
      "source": [
        "plot_value_array(1, prediksi_single[0], test_labels)\n",
        "_ = plt.xticks(range(10), class_names, rotation=45)"
      ],
      "execution_count": null,
      "outputs": [
        {
          "output_type": "display_data",
          "data": {
            "image/png": "[encoded data removed]",
            "text/plain": [
              "<Figure size 432x288 with 1 Axes>"
            ]
          },
          "metadata": {
            "tags": [],
            "needs_background": "light"
          }
        }
      ]
    },
    {
      "cell_type": "code",
      "metadata": {
        "id": "7thnqiINsCde",
        "outputId": "ad5c4acb-21fb-4c17-8c16-989f5364ccc9",
        "colab": {
          "base_uri": "https://localhost:8080/",
          "height": 34
        }
      },
      "source": [
        "np.argmax(prediksi_single[0])"
      ],
      "execution_count": null,
      "outputs": [
        {
          "output_type": "execute_result",
          "data": {
            "text/plain": [
              "2"
            ]
          },
          "metadata": {
            "tags": []
          },
          "execution_count": 37
        }
      ]
    }
  ]
}